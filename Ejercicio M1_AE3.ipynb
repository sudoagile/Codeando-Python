{
 "cells": [
  {
   "cell_type": "markdown",
   "metadata": {},
   "source": [
    "1.\tDada la lista L = [“almacenar”, 8, “a”, [1,2,3], True, (0,0,1), 85.7]\n",
    "a.\t¿Cuál de estos elementos pertenece a la lista?  (Escoja según corresponda, debe comentarlo en su script)\n",
    "\n",
    "85.7\tTrue\t[(0,0,1)]\t[1,2,3]\n",
    "0\t[True]\t85\t“a”\n",
    "\n"
   ]
  },
  {
   "cell_type": "code",
   "execution_count": null,
   "metadata": {},
   "outputs": [],
   "source": [
    "# Pertenecen: 85.7 , True ,  [1,2,3] , \"a\""
   ]
  },
  {
   "cell_type": "markdown",
   "metadata": {},
   "source": [
    "b.\t¿Cómo obtener la posición en que se encuentra el elemento (0,0,1)? (Cree la lista y entregue la ubicación del elemento)."
   ]
  },
  {
   "cell_type": "code",
   "execution_count": 12,
   "metadata": {},
   "outputs": [
    {
     "data": {
      "text/plain": [
       "5"
      ]
     },
     "execution_count": 12,
     "metadata": {},
     "output_type": "execute_result"
    }
   ],
   "source": [
    "L = [\"almacenar\", 8, \"a\", [1,2,3], True, (0,0,1), 85.7]\n",
    "L.index ((0,0,1))"
   ]
  },
  {
   "cell_type": "markdown",
   "metadata": {},
   "source": [
    "c.\t¿Cómo eliminar el último elemento, independientemente de cuántos elementos haya en la lista? (Use la función adecuada en su lista)\n"
   ]
  },
  {
   "cell_type": "code",
   "execution_count": 17,
   "metadata": {},
   "outputs": [
    {
     "name": "stdout",
     "output_type": "stream",
     "text": [
      "['almacenar', 8, 'a', [1, 2, 3], True, (0, 0, 1)]\n",
      "['almacenar', 8, 'a', [1, 2, 3], True]\n"
     ]
    }
   ],
   "source": [
    "\n",
    "print(L)\n",
    "L.pop()\n",
    "print(L)"
   ]
  },
  {
   "cell_type": "markdown",
   "metadata": {},
   "source": [
    "d.\tUtilizar una operación para contar cuántas veces aparece el string “a”. Use una función que entregue la cantidad exacta."
   ]
  },
  {
   "cell_type": "code",
   "execution_count": 14,
   "metadata": {},
   "outputs": [
    {
     "data": {
      "text/plain": [
       "1"
      ]
     },
     "execution_count": 14,
     "metadata": {},
     "output_type": "execute_result"
    }
   ],
   "source": [
    "L.count(\"a\")"
   ]
  },
  {
   "cell_type": "markdown",
   "metadata": {},
   "source": [
    "2.\tEscribir un programa que pida al usuario una palabra y muestre por pantalla si es un palíndromo."
   ]
  },
  {
   "cell_type": "code",
   "execution_count": 4,
   "metadata": {},
   "outputs": [
    {
     "name": "stdout",
     "output_type": "stream",
     "text": [
      "No es un palíndromo\n"
     ]
    }
   ],
   "source": [
    "palabra = input(\"Ingrese una palabra: \")\n",
    "palabraAlReves = palabra\n",
    "palabra = list(palabra)\n",
    "palabraAlReves = list(palabraAlReves)\n",
    "palabraAlReves.reverse()\n",
    "if palabra == palabraAlReves:\n",
    "    print(\"Es un palíndromo\")\n",
    "else:\n",
    "    print(\"No es un palíndromo\")"
   ]
  },
  {
   "cell_type": "markdown",
   "metadata": {},
   "source": [
    "3.\tEscribir un programa que almacene en una lista los números del 1 al 10 y los muestre por pantalla en orden inverso separados por comas."
   ]
  },
  {
   "cell_type": "code",
   "execution_count": 17,
   "metadata": {},
   "outputs": [
    {
     "name": "stdout",
     "output_type": "stream",
     "text": [
      "10,9,8,7,6,5,4,3,2,1,"
     ]
    }
   ],
   "source": [
    "li=[1,2,3,4,5,6,7,8,9,10]\n",
    "for i in range(1, 11):\n",
    "    print(li[-i], end=\",\")"
   ]
  },
  {
   "cell_type": "markdown",
   "metadata": {},
   "source": [
    "4.\tEscribir un programa que almacene las asignaturas de un curso (por ejemplo Matemáticas, Física, Química, Historia y Lengua) en una lista, pregunte al usuario la nota que ha sacado en cada asignatura, y después las muestre por pantalla con el mensaje En <asignatura> has sacado <nota> donde <asignatura> es cada una de las asignaturas de la lista y <nota> cada una de las correspondientes notas introducidas por el usuario."
   ]
  },
  {
   "cell_type": "code",
   "execution_count": 19,
   "metadata": {},
   "outputs": [
    {
     "name": "stdout",
     "output_type": "stream",
     "text": [
      "En Matemáticas has sacado: 3\n",
      "En Física has sacado: 5\n",
      "En Química has sacado: 8\n",
      "En Historia has sacado: 4\n",
      "En Lengua has sacado: 5\n"
     ]
    }
   ],
   "source": [
    "asignaturas = [\"Matemáticas\", \"Física\", \"Química\", \"Historia\", \"Lengua\"]\n",
    "notas = []\n",
    "for asignatura in asignaturas:\n",
    "    nota = input(\"¿Qué nota saco Usted en \" + asignatura +  \" ?\")\n",
    "    notas.append(nota)\n",
    "for i in range(len(asignaturas)):\n",
    "    print(\"En \" + asignaturas[i] + \" has sacado: \" + notas[i])"
   ]
  },
  {
   "cell_type": "markdown",
   "metadata": {},
   "source": [
    "5.\tEscribir un programa que almacene las matrices:\n",
    "                            (-1 0)      Nota, considerar los parentesis en \n",
    "A = ( 1 2 3 )    y    B =   (0  1)      vertical como un parentisis grande\n",
    "    ( 4 5 6 )               (1  1)    \n",
    "\n",
    "en una lista y muestre por pantalla su producto. \n",
    "\n",
    "Nota: Para representar matrices mediante listas usar listas anidadas, representando cada vector fila en una lista."
   ]
  },
  {
   "cell_type": "code",
   "execution_count": 4,
   "metadata": {},
   "outputs": [
    {
     "name": "stdout",
     "output_type": "stream",
     "text": [
      "(2, 5)\n",
      "(2, 11)\n"
     ]
    }
   ],
   "source": [
    "#Declarando correctamnete la matriz:\n",
    "A = ((1,2,3), (4,5,6))\n",
    "B = ((-1,0),(0,1),(1,1))\n",
    "\n",
    "result = [[0,0],[0,0]]\n",
    "\n",
    "for i in range(len(A)):\n",
    "    for j in range(len(B[0])):\n",
    "        for k in range(len(B)):\n",
    "            result[i][j] += A[i][k] * B[k][j]\n",
    "for i in range(len(result)):\n",
    "    result[i] = tuple(result[i])\n",
    "result = tuple(result)\n",
    "for i in range(len(result)):\n",
    "    print(result[i])\n",
    "    \n"
   ]
  },
  {
   "attachments": {},
   "cell_type": "markdown",
   "metadata": {},
   "source": [
    "6. Escribir un programa que guarde en una variable el diccionario {'Euro':'€', 'Dollar':'$', 'Yen':'¥'}, pregunte al usuario por una divisa y muestre su símbolo o un mensaje de aviso si la divisa no está en el diccionario."
   ]
  },
  {
   "cell_type": "code",
   "execution_count": 10,
   "metadata": {},
   "outputs": [
    {
     "name": "stdout",
     "output_type": "stream",
     "text": [
      "¥\n"
     ]
    }
   ],
   "source": [
    "divisas = {'Euro':'€', 'Dollar':'$', 'Yen':'¥'}\n",
    "divisa = input(\"Introduce una divisa: \")\n",
    "if divisa.title() in divisas:\n",
    "    print(divisas[divisa.title()])\n",
    "else:\n",
    "    print(\"La divisa no está.\")"
   ]
  },
  {
   "attachments": {},
   "cell_type": "markdown",
   "metadata": {},
   "source": [
    "7.Escribir un programa que pregunte una fecha en formato dd/mm/aaaa y muestre por pantalla la misma fecha en formato dd de <mes> de aaaa donde <mes> es el nombre del mes."
   ]
  },
  {
   "cell_type": "code",
   "execution_count": 11,
   "metadata": {},
   "outputs": [
    {
     "name": "stdout",
     "output_type": "stream",
     "text": [
      "26 de julio de 1970\n"
     ]
    }
   ],
   "source": [
    "meses = {1:'enero', 2:'febrero', 3:'marzo', 4:'abril', 5:'mayo', 6:'junio', 7:'julio', 8:'agosto', 9:'septiembre', 10:'octubre', 11:'noviembre', 12:'diciembre'}\n",
    "fecha = input('Introduce una fecha en formato dd/mm/aaaa: ')\n",
    "fecha = fecha.split('/')\n",
    "print(fecha[0], 'de', meses[int(fecha[1])], 'de', fecha[2])"
   ]
  }
 ],
 "metadata": {
  "kernelspec": {
   "display_name": "Python 3.11.0 64-bit",
   "language": "python",
   "name": "python3"
  },
  "language_info": {
   "codemirror_mode": {
    "name": "ipython",
    "version": 3
   },
   "file_extension": ".py",
   "mimetype": "text/x-python",
   "name": "python",
   "nbconvert_exporter": "python",
   "pygments_lexer": "ipython3",
   "version": "3.11.0 (v3.11.0:deaf509e8f, Oct 24 2022, 14:43:23) [Clang 13.0.0 (clang-1300.0.29.30)]"
  },
  "orig_nbformat": 4,
  "vscode": {
   "interpreter": {
    "hash": "aee8b7b246df8f9039afb4144a1f6fd8d2ca17a180786b69acc140d282b71a49"
   }
  }
 },
 "nbformat": 4,
 "nbformat_minor": 2
}
