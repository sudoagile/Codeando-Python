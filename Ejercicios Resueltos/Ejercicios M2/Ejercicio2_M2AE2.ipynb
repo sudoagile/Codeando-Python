{
 "cells": [
  {
   "attachments": {},
   "cell_type": "markdown",
   "metadata": {},
   "source": [
    "1.Crear un programa donde el usuario debe ingresar las ventas en un periodo de años y aparezca en pantalla el conjunto de datos de ventas por año y al aplicarle un descuento del 15%. (Debe aparecer el antes y después)."
   ]
  },
  {
   "cell_type": "code",
   "execution_count": 19,
   "metadata": {},
   "outputs": [],
   "source": [
    "import pandas as pd\n",
    "\n",
    "inicio = int(input('Introduce el año inicial: '))\n",
    "fin = int(input('Introduce el año final: '))\n",
    "ventas = {}\n",
    "for i in range(inicio, fin+1):\n",
    "    ventas[i] = float(input('Introduce las ventas del año ' + str(i) +': '))\n",
    "ventas = pd.Series(ventas)\n",
    "print('Ventas\\n', ventas)\n",
    "print('Ventas con descuento\\n', ventas*0.85)\n",
    "\n"
   ]
  },
  {
   "attachments": {},
   "cell_type": "markdown",
   "metadata": {},
   "source": [
    "2.Crear un programa que guarde un diccionario que contenga las notas del exmane del curso de Análisis de Datos del presente año, y debe devolver la nota mínima, la nota máxima, la nota promedio y su desviación estándar."
   ]
  },
  {
   "cell_type": "code",
   "execution_count": null,
   "metadata": {},
   "outputs": [
    {
     "name": "stdout",
     "output_type": "stream",
     "text": [
      "Nota Mínima            4.000000\n",
      "Nota Máxima            9.000000\n",
      "La Nota Promedio       6.600000\n",
      "Desviación Estándar    2.162175\n",
      "dtype: float64\n"
     ]
    }
   ],
   "source": [
    "import pandas as pd\n",
    "\n",
    "def estadistica_notas(notas):\n",
    "    notas = pd.Series(notas)\n",
    "    estadisticos = pd.Series([notas.min(), notas.max(), notas.mean(), notas.std()], index=['Nota Mínima', 'Nota Máxima', 'La Nota Promedio', 'Desviación Estándar'])\n",
    "    return estadisticos\n",
    "\n",
    "notas = {'Felipa':7, 'Eduardo':5.5, 'Rigoberto':6, 'Luciana': 6.2, 'Rodrigo': 4}\n",
    "print(estadistica_notas(notas))"
   ]
  },
  {
   "attachments": {},
   "cell_type": "markdown",
   "metadata": {},
   "source": [
    "Para el mismo curso de la pregunta 2, pida al programa o función que entregue las notas de los alumnos que no reprobaron ordenadas de forma descendente."
   ]
  },
  {
   "cell_type": "code",
   "execution_count": 1,
   "metadata": {},
   "outputs": [
    {
     "name": "stdout",
     "output_type": "stream",
     "text": [
      "Felipa       7.0\n",
      "Luciana      6.2\n",
      "Rigoberto    6.0\n",
      "Eduardo      5.5\n",
      "Rodrigo      4.0\n",
      "dtype: float64\n"
     ]
    }
   ],
   "source": [
    "import pandas as pd\n",
    "\n",
    "def aprobados(notas):\n",
    "    notas = pd.Series(notas)\n",
    "    return notas[notas >= 4].sort_values(ascending=False)\n",
    "\n",
    "notas = {'Felipa':7, 'Eduardo':5.5, 'Rigoberto':6, 'Luciana': 6.2, 'Rodrigo': 4}\n",
    "print(aprobados(notas))"
   ]
  }
 ],
 "metadata": {
  "kernelspec": {
   "display_name": "Python 3",
   "language": "python",
   "name": "python3"
  },
  "language_info": {
   "codemirror_mode": {
    "name": "ipython",
    "version": 3
   },
   "file_extension": ".py",
   "mimetype": "text/x-python",
   "name": "python",
   "nbconvert_exporter": "python",
   "pygments_lexer": "ipython3",
   "version": "3.11.0"
  },
  "orig_nbformat": 4,
  "vscode": {
   "interpreter": {
    "hash": "aee8b7b246df8f9039afb4144a1f6fd8d2ca17a180786b69acc140d282b71a49"
   }
  }
 },
 "nbformat": 4,
 "nbformat_minor": 2
}
