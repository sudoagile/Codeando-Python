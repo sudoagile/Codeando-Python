{
 "cells": [
  {
   "cell_type": "code",
   "execution_count": 4,
   "metadata": {},
   "outputs": [],
   "source": [
    "import pandas as pd\n",
    "import numpy as np"
   ]
  },
  {
   "cell_type": "code",
   "execution_count": 6,
   "metadata": {},
   "outputs": [
    {
     "data": {
      "text/html": [
       "<div>\n",
       "<style scoped>\n",
       "    .dataframe tbody tr th:only-of-type {\n",
       "        vertical-align: middle;\n",
       "    }\n",
       "\n",
       "    .dataframe tbody tr th {\n",
       "        vertical-align: top;\n",
       "    }\n",
       "\n",
       "    .dataframe thead th {\n",
       "        text-align: right;\n",
       "    }\n",
       "</style>\n",
       "<table border=\"1\" class=\"dataframe\">\n",
       "  <thead>\n",
       "    <tr style=\"text-align: right;\">\n",
       "      <th></th>\n",
       "      <th>Id;LotFrontage;LotArea;MasVnrArea;BsmtFinSF1;BsmtFinSF2;BsmtUnfSF;TotalBsmtSF;1stFlrSF;2ndFlrSF;LowQualFinSF;GrLivArea;GarageArea;WoodDeckSF;OpenPorchSF;EnclosedPorch;3SsnPorch;ScreenPorch;PoolArea;MiscVal;SalePrice</th>\n",
       "    </tr>\n",
       "  </thead>\n",
       "  <tbody>\n",
       "    <tr>\n",
       "      <th>0</th>\n",
       "      <td>1;65;8450;196;706;0;150;856;856;854;0;1710;548...</td>\n",
       "    </tr>\n",
       "    <tr>\n",
       "      <th>1</th>\n",
       "      <td>2;80;9600;0;978;0;284;1262;1262;0;0;1262;460;2...</td>\n",
       "    </tr>\n",
       "    <tr>\n",
       "      <th>2</th>\n",
       "      <td>3;68;11250;162;486;0;434;920;920;866;0;1786;60...</td>\n",
       "    </tr>\n",
       "    <tr>\n",
       "      <th>3</th>\n",
       "      <td>4;60;9550;0;216;0;540;756;961;756;0;1717;642;0...</td>\n",
       "    </tr>\n",
       "    <tr>\n",
       "      <th>4</th>\n",
       "      <td>5;84;14260;350;655;0;490;1145;1145;1053;0;2198...</td>\n",
       "    </tr>\n",
       "    <tr>\n",
       "      <th>5</th>\n",
       "      <td>6;85;14115;0;732;0;64;796;796;566;0;1362;480;4...</td>\n",
       "    </tr>\n",
       "    <tr>\n",
       "      <th>6</th>\n",
       "      <td>7;75;10084;186;1369;0;317;1686;1694;0;0;1694;6...</td>\n",
       "    </tr>\n",
       "    <tr>\n",
       "      <th>7</th>\n",
       "      <td>8;NA;10382;240;859;32;216;1107;1107;983;0;2090...</td>\n",
       "    </tr>\n",
       "  </tbody>\n",
       "</table>\n",
       "</div>"
      ],
      "text/plain": [
       "  Id;LotFrontage;LotArea;MasVnrArea;BsmtFinSF1;BsmtFinSF2;BsmtUnfSF;TotalBsmtSF;1stFlrSF;2ndFlrSF;LowQualFinSF;GrLivArea;GarageArea;WoodDeckSF;OpenPorchSF;EnclosedPorch;3SsnPorch;ScreenPorch;PoolArea;MiscVal;SalePrice\n",
       "0  1;65;8450;196;706;0;150;856;856;854;0;1710;548...                                                                                                                                                                     \n",
       "1  2;80;9600;0;978;0;284;1262;1262;0;0;1262;460;2...                                                                                                                                                                     \n",
       "2  3;68;11250;162;486;0;434;920;920;866;0;1786;60...                                                                                                                                                                     \n",
       "3  4;60;9550;0;216;0;540;756;961;756;0;1717;642;0...                                                                                                                                                                     \n",
       "4  5;84;14260;350;655;0;490;1145;1145;1053;0;2198...                                                                                                                                                                     \n",
       "5  6;85;14115;0;732;0;64;796;796;566;0;1362;480;4...                                                                                                                                                                     \n",
       "6  7;75;10084;186;1369;0;317;1686;1694;0;0;1694;6...                                                                                                                                                                     \n",
       "7  8;NA;10382;240;859;32;216;1107;1107;983;0;2090...                                                                                                                                                                     "
      ]
     },
     "execution_count": 6,
     "metadata": {},
     "output_type": "execute_result"
    }
   ],
   "source": [
    "first_import = pd.read_csv(\"https://raw.githubusercontent.com/sudoagile/Codeando-Python/main/Base_de_Datos/house_price.csv\", sep=\",\")\n",
    "first_import.head(8)"
   ]
  },
  {
   "cell_type": "code",
   "execution_count": null,
   "metadata": {
    "collapsed": false
   },
   "outputs": [],
   "source": []
  }
 ],
 "metadata": {
  "kernelspec": {
   "display_name": "Python 3",
   "language": "python",
   "name": "python3"
  },
  "language_info": {
   "codemirror_mode": {
    "name": "ipython",
    "version": 3
   },
   "file_extension": ".py",
   "mimetype": "text/x-python",
   "name": "python",
   "nbconvert_exporter": "python",
   "pygments_lexer": "ipython3",
   "version": "3.11.0 (v3.11.0:deaf509e8f, Oct 24 2022, 14:43:23) [Clang 13.0.0 (clang-1300.0.29.30)]"
  },
  "orig_nbformat": 4,
  "vscode": {
   "interpreter": {
    "hash": "aee8b7b246df8f9039afb4144a1f6fd8d2ca17a180786b69acc140d282b71a49"
   }
  }
 },
 "nbformat": 4,
 "nbformat_minor": 2
}
