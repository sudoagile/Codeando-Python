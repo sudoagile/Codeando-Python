{
 "cells": [
  {
   "cell_type": "code",
   "execution_count": 11,
   "metadata": {},
   "outputs": [],
   "source": [
    "import pandas as pd\n",
    "import numpy as np"
   ]
  },
  {
   "cell_type": "code",
   "execution_count": 12,
   "metadata": {},
   "outputs": [
    {
     "name": "stderr",
     "output_type": "stream",
     "text": [
      "/var/folders/sd/gk7d_jl55xscpzmk5yz9bh6r0000gn/T/ipykernel_7579/3281646754.py:1: FutureWarning: The error_bad_lines argument has been deprecated and will be removed in a future version. Use on_bad_lines in the future.\n",
      "\n",
      "\n",
      "  primera_importacion = pd.read_csv(\"https://github.com/sudoagile/Codeando-Python/blob/8cf0600225a2305c0c1990d1190df1c214d017fd/Base_de_Datos/clinica.csv\" , sep=\",\", error_bad_lines=False)\n",
      "Skipping line 28: expected 1 fields, saw 367\n",
      "Skipping line 82: expected 1 fields, saw 3\n",
      "Skipping line 127: expected 1 fields, saw 3\n",
      "Skipping line 191: expected 1 fields, saw 3\n",
      "Skipping line 200: expected 1 fields, saw 6\n",
      "Skipping line 232: expected 1 fields, saw 4\n",
      "Skipping line 245: expected 1 fields, saw 4\n",
      "Skipping line 258: expected 1 fields, saw 4\n",
      "Skipping line 271: expected 1 fields, saw 4\n",
      "Skipping line 284: expected 1 fields, saw 4\n",
      "Skipping line 297: expected 1 fields, saw 4\n",
      "Skipping line 310: expected 1 fields, saw 4\n",
      "Skipping line 323: expected 1 fields, saw 4\n",
      "Skipping line 340: expected 1 fields, saw 4\n",
      "Skipping line 347: expected 1 fields, saw 4\n",
      "Skipping line 356: expected 1 fields, saw 4\n",
      "Skipping line 365: expected 1 fields, saw 4\n",
      "Skipping line 390: expected 1 fields, saw 4\n",
      "Skipping line 397: expected 1 fields, saw 4\n",
      "Skipping line 404: expected 1 fields, saw 4\n",
      "Skipping line 411: expected 1 fields, saw 4\n",
      "Skipping line 424: expected 1 fields, saw 4\n",
      "Skipping line 431: expected 1 fields, saw 4\n",
      "Skipping line 440: expected 1 fields, saw 4\n",
      "Skipping line 453: expected 1 fields, saw 4\n",
      "Skipping line 460: expected 1 fields, saw 4\n",
      "Skipping line 484: expected 1 fields, saw 4\n",
      "Skipping line 498: expected 1 fields, saw 4\n",
      "Skipping line 513: expected 1 fields, saw 4\n",
      "Skipping line 520: expected 1 fields, saw 4\n",
      "Skipping line 527: expected 1 fields, saw 4\n",
      "Skipping line 539: expected 1 fields, saw 3\n",
      "Skipping line 558: expected 1 fields, saw 2\n",
      "Skipping line 757: expected 1 fields, saw 6\n",
      "Skipping line 758: expected 1 fields, saw 3\n",
      "Skipping line 765: expected 1 fields, saw 6\n",
      "Skipping line 766: expected 1 fields, saw 3\n",
      "Skipping line 869: expected 1 fields, saw 6\n",
      "Skipping line 876: expected 1 fields, saw 6\n",
      "Skipping line 885: expected 1 fields, saw 6\n",
      "Skipping line 910: expected 1 fields, saw 4\n",
      "Skipping line 922: expected 1 fields, saw 4\n",
      "Skipping line 934: expected 1 fields, saw 4\n",
      "Skipping line 946: expected 1 fields, saw 4\n",
      "Skipping line 958: expected 1 fields, saw 4\n",
      "Skipping line 970: expected 1 fields, saw 4\n",
      "Skipping line 981: expected 1 fields, saw 4\n",
      "Skipping line 1067: expected 1 fields, saw 5\n",
      "Skipping line 1237: expected 1 fields, saw 2\n",
      "Skipping line 1262: expected 1 fields, saw 7\n",
      "Skipping line 1303: expected 1 fields, saw 2\n",
      "Skipping line 1364: expected 1 fields, saw 6\n",
      "Skipping line 1373: expected 1 fields, saw 2\n",
      "Skipping line 1402: expected 1 fields, saw 6\n",
      "Skipping line 1450: expected 1 fields, saw 2\n",
      "Skipping line 1609: expected 1 fields, saw 2\n",
      "Skipping line 1617: expected 1 fields, saw 3\n",
      "Skipping line 1618: expected 1 fields, saw 3\n",
      "Skipping line 1619: expected 1 fields, saw 3\n",
      "Skipping line 1620: expected 1 fields, saw 3\n",
      "Skipping line 1621: expected 1 fields, saw 3\n",
      "Skipping line 1622: expected 1 fields, saw 3\n",
      "Skipping line 1623: expected 1 fields, saw 3\n",
      "Skipping line 1624: expected 1 fields, saw 3\n",
      "Skipping line 1625: expected 1 fields, saw 3\n",
      "Skipping line 1626: expected 1 fields, saw 3\n",
      "Skipping line 1627: expected 1 fields, saw 3\n",
      "\n"
     ]
    },
    {
     "data": {
      "text/html": [
       "<div>\n",
       "<style scoped>\n",
       "    .dataframe tbody tr th:only-of-type {\n",
       "        vertical-align: middle;\n",
       "    }\n",
       "\n",
       "    .dataframe tbody tr th {\n",
       "        vertical-align: top;\n",
       "    }\n",
       "\n",
       "    .dataframe thead th {\n",
       "        text-align: right;\n",
       "    }\n",
       "</style>\n",
       "<table border=\"1\" class=\"dataframe\">\n",
       "  <thead>\n",
       "    <tr style=\"text-align: right;\">\n",
       "      <th></th>\n",
       "      <th>&lt;!DOCTYPE html&gt;</th>\n",
       "    </tr>\n",
       "  </thead>\n",
       "  <tbody>\n",
       "    <tr>\n",
       "      <th>0</th>\n",
       "      <td>&lt;html lang=\"en\" data-color-mode=\"auto\" data-li...</td>\n",
       "    </tr>\n",
       "    <tr>\n",
       "      <th>1</th>\n",
       "      <td>&lt;head&gt;</td>\n",
       "    </tr>\n",
       "    <tr>\n",
       "      <th>2</th>\n",
       "      <td>&lt;meta charset=\"utf-8\"&gt;</td>\n",
       "    </tr>\n",
       "    <tr>\n",
       "      <th>3</th>\n",
       "      <td>&lt;link rel=\"dns-prefetch\" href=\"https://githu...</td>\n",
       "    </tr>\n",
       "    <tr>\n",
       "      <th>4</th>\n",
       "      <td>&lt;link rel=\"dns-prefetch\" href=\"https://avata...</td>\n",
       "    </tr>\n",
       "  </tbody>\n",
       "</table>\n",
       "</div>"
      ],
      "text/plain": [
       "                                     <!DOCTYPE html>\n",
       "0  <html lang=\"en\" data-color-mode=\"auto\" data-li...\n",
       "1                                             <head>\n",
       "2                             <meta charset=\"utf-8\">\n",
       "3    <link rel=\"dns-prefetch\" href=\"https://githu...\n",
       "4    <link rel=\"dns-prefetch\" href=\"https://avata..."
      ]
     },
     "execution_count": 12,
     "metadata": {},
     "output_type": "execute_result"
    }
   ],
   "source": [
    "\n",
    "primera_importacion = pd.read_csv(\"https://github.com/sudoagile/Codeando-Python/blob/8cf0600225a2305c0c1990d1190df1c214d017fd/Base_de_Datos/clinica.csv\" , sep=\",\" , error_bad_lines=False)\n",
    " \n",
    "primera_importacion.head()"
   ]
  },
  {
   "cell_type": "code",
   "execution_count": null,
   "metadata": {
    "collapsed": false
   },
   "outputs": [],
   "source": []
  }
 ],
 "metadata": {
  "kernelspec": {
   "display_name": "Python 3",
   "language": "python",
   "name": "python3"
  },
  "language_info": {
   "codemirror_mode": {
    "name": "ipython",
    "version": 3
   },
   "file_extension": ".py",
   "mimetype": "text/x-python",
   "name": "python",
   "nbconvert_exporter": "python",
   "pygments_lexer": "ipython3",
   "version": "3.11.0"
  },
  "orig_nbformat": 4,
  "vscode": {
   "interpreter": {
    "hash": "aee8b7b246df8f9039afb4144a1f6fd8d2ca17a180786b69acc140d282b71a49"
   }
  }
 },
 "nbformat": 4,
 "nbformat_minor": 2
}
