{
  "nbformat": 4,
  "nbformat_minor": 0,
  "metadata": {
    "colab": {
      "provenance": []
    },
    "kernelspec": {
      "name": "python3",
      "display_name": "Python 3"
    },
    "language_info": {
      "name": "python"
    }
  },
  "cells": [
    {
      "cell_type": "markdown",
      "source": [
        "1. Escribir un programa que almacene la cadena ¡Hola Mundo! en una variable y luego muestre por pantalla el contenido de la variable."
      ],
      "metadata": {
        "id": "K6CSR_WWwwG_"
      }
    },
    {
      "cell_type": "code",
      "execution_count": null,
      "metadata": {
        "id": "W4zL4qxZwrnl"
      },
      "outputs": [],
      "source": [
        "variable = input(\"Oye saludame... :\")\n",
        "print(\"\")\n",
        "print(variable)\n"
      ]
    },
    {
      "cell_type": "markdown",
      "source": [
        "2. Escribir un programa que pregunte el nombre del usuario en la consola y después de que el usuario lo introduzca muestre por pantalla la cadena ¡Hola `<nombre>`!, donde `<nombre>` es el nombre que el usuario haya introducido."
      ],
      "metadata": {
        "id": "b7XFNJfcxYk1"
      }
    },
    {
      "cell_type": "code",
      "source": [
        "name = input(\"¿Cómo te llamas?: \")\n",
        "print(\"\")\n",
        "print(\"Hola \", name)"
      ],
      "metadata": {
        "colab": {
          "base_uri": "https://localhost:8080/"
        },
        "id": "a9GNeq8oxaSd",
        "outputId": "4dadde67-d632-4d53-e1f0-87b8536fa34b"
      },
      "execution_count": null,
      "outputs": [
        {
          "output_type": "stream",
          "name": "stdout",
          "text": [
            "¿Cómo te llamas?: Eduardo\n",
            "\n",
            "Hola  Eduardo\n"
          ]
        }
      ]
    },
    {
      "cell_type": "markdown",
      "source": [
        "3.Escribir un programa que pregunte al usuario por el número de horas trabajadas y el pago por hora. Después debe mostrar por pantalla el pago que le corresponde."
      ],
      "metadata": {
        "id": "-16bUVOrznZk"
      }
    },
    {
      "cell_type": "code",
      "source": [
        "horas = int(input(\"Horas trabajadas: \"));\n",
        "pago = int(input(\"Pago por hora: \"));\n",
        "\n",
        "\n",
        "print(\"Corresponde :\", horas * pago)\n",
        "\n"
      ],
      "metadata": {
        "colab": {
          "base_uri": "https://localhost:8080/"
        },
        "id": "-Z4j8BHLzxkQ",
        "outputId": "1a2e6f52-3ad0-4551-96f0-a6769739f57c"
      },
      "execution_count": null,
      "outputs": [
        {
          "output_type": "stream",
          "name": "stdout",
          "text": [
            "Horas trabajadas: 3\n",
            "Pago por hora: 5000\n",
            "Corresponde : 15000\n"
          ]
        }
      ]
    },
    {
      "cell_type": "markdown",
      "source": [
        "4.Desarrolle un algoritmo que dado dos números “a” y “b”, muestre sus valores en orden de menor a mayor."
      ],
      "metadata": {
        "id": "7D3FTeAl4Tyu"
      }
    },
    {
      "cell_type": "code",
      "source": [
        "print(\"Ingrese dos números\")\n",
        "a = int(input(\"a: \"));\n",
        "b = int(input(\"b: \"));\n",
        "\n",
        "if a<b:\n",
        "  print (\"Los números son:\", a,\",\", b  )\n",
        "\n",
        "else:\n",
        "  print (\"Los números son:\", b,\",\",a)\n"
      ],
      "metadata": {
        "colab": {
          "base_uri": "https://localhost:8080/"
        },
        "id": "9AFT9v2A4X5g",
        "outputId": "83857128-1b4d-4f57-f95f-b1776664aca1"
      },
      "execution_count": null,
      "outputs": [
        {
          "output_type": "stream",
          "name": "stdout",
          "text": [
            "Ingrese dos números\n",
            "a: 4\n",
            "b: 5\n",
            "Los números son: 4 , 5\n"
          ]
        }
      ]
    },
    {
      "cell_type": "markdown",
      "source": [
        "5. Una panadería vende el pan a $1200 cada Kg. El pan que no es el día tiene un descuento del 60%. Escribe un programa que comience leyendo el número de Kilos vendidos que no son del día. Después tu programa debe mostrar el precio habitual del kilo de pan, el descuento que se le hace por no ser fresco y el costo final total.\n"
      ],
      "metadata": {
        "id": "J-2gj6Xd74b8"
      }
    },
    {
      "cell_type": "code",
      "source": [
        "pan = int(input(\"Pan añejo: \"))\n",
        "precio = 1200\n",
        "descuento = 0.6\n",
        "costo= pan * precio * (1-descuento)\n",
        "\n",
        "print (\"Precio de pan del dia: \", precio)\n",
        "print (\"Descuento \" + str(descuento*100)+\"%\")\n",
        "print (\"Costo final: \"+ str(costo))\n"
      ],
      "metadata": {
        "colab": {
          "base_uri": "https://localhost:8080/"
        },
        "id": "wcE_pL958A6_",
        "outputId": "784cef05-5670-4448-9ec2-a71cef34d918"
      },
      "execution_count": null,
      "outputs": [
        {
          "output_type": "stream",
          "name": "stdout",
          "text": [
            "Pan añejo: 5\n",
            "Precio de pan del dia:  1200\n",
            "Descuento 60.0%\n",
            "Costo final: 2400.0\n"
          ]
        }
      ]
    },
    {
      "cell_type": "markdown",
      "source": [
        "6. Dado el sueldo de un trabajador, aplique un aumento del 15% si su \n",
        "sueldo es inferior a $200.000. Imprima el resultado."
      ],
      "metadata": {
        "id": "Vy85hlm-WqGq"
      }
    },
    {
      "cell_type": "code",
      "source": [],
      "metadata": {
        "id": "znihyhGQ4Lm8"
      },
      "execution_count": null,
      "outputs": []
    },
    {
      "cell_type": "code",
      "source": [
        "print(\"Ingrese sueldo\")\n",
        "sueldo = float(input(\"sueldo: \"));\n",
        "nuevo_Sueldo =  float((sueldo * 0.15) + sueldo)\n",
        "\n",
        "\n",
        "if sueldo < 200.000:\n",
        "\n",
        "  #print (\"El nuevo sueldo es:\", nuevo_Sueldo)\n",
        " print(\"El nuevo sueldo es\",'{:.3f}'.format(nuevo_Sueldo))\n",
        "   \n",
        "else:\n",
        "  print (\"No existe aumento de sueldo:\")\n",
        "\n"
      ],
      "metadata": {
        "colab": {
          "base_uri": "https://localhost:8080/"
        },
        "outputId": "8557efc7-dc51-4779-9a3d-f27cc021350c",
        "id": "Oz7Jd-CL9VPf"
      },
      "execution_count": null,
      "outputs": [
        {
          "output_type": "stream",
          "name": "stdout",
          "text": [
            "Ingrese sueldo\n",
            "sueldo: 201.000\n",
            "No existe aumento de sueldo:\n"
          ]
        }
      ]
    },
    {
      "cell_type": "markdown",
      "source": [
        "7. Desarrolle un algoritmo para determinar si un año leído por teclado es o no bisiesto.\n"
      ],
      "metadata": {
        "id": "oLfRY4rM_A8v"
      }
    },
    {
      "cell_type": "code",
      "source": [
        "año = int(input(\"Año:\"))\n",
        "\n",
        "if año % 4 == 0 and (año % 100 != 0 or año % 400 == 0):\n",
        "\tprint(\"Es bisiesto\")\n",
        "else:\n",
        "\tprint(\"No es bisiesto\")"
      ],
      "metadata": {
        "colab": {
          "base_uri": "https://localhost:8080/"
        },
        "id": "6zf_Ytqg_HXJ",
        "outputId": "a0e380c6-23ee-431b-89ad-a4abebc26c75"
      },
      "execution_count": null,
      "outputs": [
        {
          "output_type": "stream",
          "name": "stdout",
          "text": [
            "Año:1980\n",
            "Es bisiesto\n"
          ]
        }
      ]
    },
    {
      "cell_type": "markdown",
      "source": [
        "8. Se coloca un capital C, a un interés I (que oscila entre 0 y 100), durante M años y se desea saber en cuánto se habrá convertido ese capital en “M” años, sabiendo que es acumulativo."
      ],
      "metadata": {
        "id": "pWPvqo-JPuBn"
      }
    },
    {
      "cell_type": "code",
      "source": [
        "\n",
        "while (c<0) or (i<=0) or (i>=0) or (m<=0):\n",
        "\n",
        "  print (\"Introducir el capital, el interés y el tiempo\")\n",
        "\n",
        "  c = int(input (\"Capital: \"))\n",
        "  i = int (input (\"Interes: \"))\n",
        "  m = int(input(\"Tiempo en años: \"))\n",
        "\n",
        "  for i in range(m):\n",
        "\n",
        "    c = c * (1+i/100)\n",
        "  \n",
        "  print (\"\\n\")\n",
        "\n",
        "  print (\"Tiene\", c, \"pesos\" ) \n",
        "\n",
        "  \n"
      ],
      "metadata": {
        "colab": {
          "base_uri": "https://localhost:8080/"
        },
        "id": "XtHUFajwPxsQ",
        "outputId": "7deb1482-716e-4146-fab5-4a3d99e28c82"
      },
      "execution_count": null,
      "outputs": [
        {
          "metadata": {
            "tags": null
          },
          "name": "stdout",
          "output_type": "stream",
          "text": [
            "Introducir el capital, el interés y el tiempo\n",
            "\n",
            "\n",
            "Tiene 1103.55024 pesos\n",
            "Introducir el capital, el interés y el tiempo\n"
          ]
        }
      ]
    },
    {
      "cell_type": "markdown",
      "source": [
        "9. Calcular la suma de los divisores de cada número introducido por teclado. Terminaremos cuando el número ingresado sea negativo"
      ],
      "metadata": {
        "id": "E3xD9pv6YZZ_"
      }
    },
    {
      "cell_type": "code",
      "source": [
        "def suma_Divisores(numero):\n",
        "    suma = 0\n",
        "    for i in range(1, numero):\n",
        "        if numero % i == 0:\n",
        "            suma += i\n",
        "    return suma\n",
        "\n",
        "numero = int(input(\"Ingresa el número: \"))\n",
        "print(\"La suma es de sus divisores es: \")\n",
        "print(suma_Divisores(numero))"
      ],
      "metadata": {
        "colab": {
          "base_uri": "https://localhost:8080/"
        },
        "id": "_bMF4SeCYePh",
        "outputId": "70cdab26-beba-4db3-d779-2fb47a011f09"
      },
      "execution_count": null,
      "outputs": [
        {
          "output_type": "stream",
          "name": "stdout",
          "text": [
            "Ingresa el número: 45\n",
            "La suma es de sus divisores es: \n",
            "33\n"
          ]
        }
      ]
    }
  ]
}