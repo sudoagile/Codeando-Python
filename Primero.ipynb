{
 "cells": [
  {
   "cell_type": "code",
   "execution_count": 2,
   "metadata": {},
   "outputs": [
    {
     "name": "stdout",
     "output_type": "stream",
     "text": [
      "Bienvenidos a la clase de introducción a Python y Ciencia de Datos\n",
      "Esta línea si se ejecuta. Ya no es un comentario\n"
     ]
    }
   ],
   "source": [
    "print(\"Bienvenidos a la clase de introducción a Python y Ciencia de Datos\")\n",
    "# print(\"Esta es una celda de código\")\n",
    "print(\"Esta línea si se ejecuta. Ya no es un comentario\") # la función print() imprime codigo"
   ]
  },
  {
   "cell_type": "code",
   "execution_count": 1,
   "metadata": {},
   "outputs": [
    {
     "name": "stdout",
     "output_type": "stream",
     "text": [
      "Hola Edu es un placer conocerte :)\n"
     ]
    }
   ],
   "source": [
    "input(\"Esto es un mensaje automático... (presiona Enter)\")\n",
    "name = input(\"¿Cómo te llamas? \")\n",
    "print(\"Hola\",name, \"es un placer conocerte :)\")\n"
   ]
  },
  {
   "cell_type": "code",
   "execution_count": 2,
   "metadata": {},
   "outputs": [],
   "source": [
    "pesos = [63, 72, 83, 54, 91, 53, 68, 89]\n",
    "alturas = [152, 179, 170, 172, 169, 153, 161, 190]\n",
    "\n",
    "#alturas[-3:]"
   ]
  },
  {
   "cell_type": "code",
   "execution_count": 3,
   "metadata": {},
   "outputs": [
    {
     "name": "stdout",
     "output_type": "stream",
     "text": [
      "[152, 179, 170, 172]\n"
     ]
    },
    {
     "data": {
      "text/plain": [
       "[63, 72, 83, 54]"
      ]
     },
     "execution_count": 3,
     "metadata": {},
     "output_type": "execute_result"
    }
   ],
   "source": [
    "pesos_a = pesos[:4] \n",
    "alturas_a = alturas[:4]\n",
    "print(f\"{alturas_a}\")\n",
    "pesos_a"
   ]
  },
  {
   "cell_type": "markdown",
   "metadata": {},
   "source": []
  }
 ],
 "metadata": {
  "kernelspec": {
   "display_name": "Python 3.11.0 64-bit",
   "language": "python",
   "name": "python3"
  },
  "language_info": {
   "codemirror_mode": {
    "name": "ipython",
    "version": 3
   },
   "file_extension": ".py",
   "mimetype": "text/x-python",
   "name": "python",
   "nbconvert_exporter": "python",
   "pygments_lexer": "ipython3",
   "version": "3.11.0 (v3.11.0:deaf509e8f, Oct 24 2022, 14:43:23) [Clang 13.0.0 (clang-1300.0.29.30)]"
  },
  "orig_nbformat": 4,
  "vscode": {
   "interpreter": {
    "hash": "aee8b7b246df8f9039afb4144a1f6fd8d2ca17a180786b69acc140d282b71a49"
   }
  }
 },
 "nbformat": 4,
 "nbformat_minor": 2
}
