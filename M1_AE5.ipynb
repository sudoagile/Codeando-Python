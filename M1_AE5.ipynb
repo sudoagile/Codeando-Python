{
 "cells": [
  {
   "attachments": {},
   "cell_type": "markdown",
   "metadata": {},
   "source": [
    "1. Para el siguiente ejemplo, proporcione la(s) exeepción adecuada(s)"
   ]
  },
  {
   "cell_type": "code",
   "execution_count": 2,
   "metadata": {},
   "outputs": [
    {
     "name": "stdout",
     "output_type": "stream",
     "text": [
      "b no puede debe ser igual a 0\n"
     ]
    }
   ],
   "source": [
    "a = 10\n",
    "b = 0\n",
    "if b != 0:\n",
    "    print (\"a/b = %d\" % c)\n",
    "    c = a/b;\n",
    "else :\n",
    " print (\"b no puede debe ser igual a 0\")"
   ]
  },
  {
   "attachments": {},
   "cell_type": "markdown",
   "metadata": {},
   "source": [
    "2. Con el ejercicio anterior, cree un programa que le pida ingresar los valores al usuario "
   ]
  },
  {
   "cell_type": "code",
   "execution_count": 3,
   "metadata": {},
   "outputs": [
    {
     "name": "stdout",
     "output_type": "stream",
     "text": [
      "d/e = 20\n"
     ]
    }
   ],
   "source": [
    "d = int(input(\"d: \"));\n",
    "e = int(input(\"e: \"));\n",
    "\n",
    "\n",
    "if e != 0:\n",
    "    f = d/e;\n",
    "    print (\"d/e = %d\" % f)\n",
    "\n",
    "else :\n",
    " print (\"f no puede ser igual a 0\")\n",
    "\n",
    "\n"
   ]
  },
  {
   "attachments": {},
   "cell_type": "markdown",
   "metadata": {},
   "source": [
    "3. Cree una función de interes simple, entregando una exepción si la tasa es superior a 100.\n",
    "El programa debe recibir: "
   ]
  },
  {
   "cell_type": "code",
   "execution_count": 32,
   "metadata": {},
   "outputs": [
    {
     "name": "stdout",
     "output_type": "stream",
     "text": [
      "100000\n",
      "5\n",
      "3.5\n"
     ]
    },
    {
     "ename": "NameError",
     "evalue": "name 'calculo' is not defined",
     "output_type": "error",
     "traceback": [
      "\u001b[0;31m---------------------------------------------------------------------------\u001b[0m",
      "\u001b[0;31mNameError\u001b[0m                                 Traceback (most recent call last)",
      "Cell \u001b[0;32mIn [32], line 14\u001b[0m\n\u001b[1;32m     12\u001b[0m \u001b[39mprint\u001b[39m (ano)\n\u001b[1;32m     13\u001b[0m \u001b[39mprint\u001b[39m (tasa)\n\u001b[0;32m---> 14\u001b[0m \u001b[39mprint\u001b[39m (\u001b[39m\"\u001b[39m\u001b[39m \u001b[39m\u001b[39m\"\u001b[39m, calculo)\n",
      "\u001b[0;31mNameError\u001b[0m: name 'calculo' is not defined"
     ]
    }
   ],
   "source": [
    "\n",
    "\n",
    "def interes(monto, ano, tasa):\n",
    "    calculo = float((monto * ano * tasa)/100)\n",
    "   \n",
    "    #return calculo\n",
    "\n",
    "\n",
    "#numero = int(input(\"Ingresa el número: \"))\n",
    "#print(\"La suma es de sus divisores es: \")\n",
    "#print(suma_Divisores(numero))\n"
   ]
  },
  {
   "cell_type": "code",
   "execution_count": 36,
   "metadata": {},
   "outputs": [
    {
     "ename": "NameError",
     "evalue": "name 'calculo' is not defined",
     "output_type": "error",
     "traceback": [
      "\u001b[0;31m---------------------------------------------------------------------------\u001b[0m",
      "\u001b[0;31mNameError\u001b[0m                                 Traceback (most recent call last)",
      "Cell \u001b[0;32mIn [36], line 2\u001b[0m\n\u001b[1;32m      1\u001b[0m interes (\u001b[39m100\u001b[39m, \u001b[39m3\u001b[39m, \u001b[39m6\u001b[39m)\n\u001b[0;32m----> 2\u001b[0m \u001b[39mprint\u001b[39m (\u001b[39mint\u001b[39m(calculo))\n",
      "\u001b[0;31mNameError\u001b[0m: name 'calculo' is not defined"
     ]
    }
   ],
   "source": [
    "interes (100, 3, 6)\n",
    "print (int(calculo))"
   ]
  },
  {
   "cell_type": "markdown",
   "metadata": {},
   "source": []
  }
 ],
 "metadata": {
  "kernelspec": {
   "display_name": "Python 3",
   "language": "python",
   "name": "python3"
  },
  "language_info": {
   "codemirror_mode": {
    "name": "ipython",
    "version": 3
   },
   "file_extension": ".py",
   "mimetype": "text/x-python",
   "name": "python",
   "nbconvert_exporter": "python",
   "pygments_lexer": "ipython3",
   "version": "3.11.0 (v3.11.0:deaf509e8f, Oct 24 2022, 14:43:23) [Clang 13.0.0 (clang-1300.0.29.30)]"
  },
  "orig_nbformat": 4,
  "vscode": {
   "interpreter": {
    "hash": "aee8b7b246df8f9039afb4144a1f6fd8d2ca17a180786b69acc140d282b71a49"
   }
  }
 },
 "nbformat": 4,
 "nbformat_minor": 2
}
