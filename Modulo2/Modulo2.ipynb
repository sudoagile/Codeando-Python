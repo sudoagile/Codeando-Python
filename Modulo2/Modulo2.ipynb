{
 "cells": [
  {
   "cell_type": "code",
   "execution_count": 2,
   "metadata": {},
   "outputs": [
    {
     "name": "stdout",
     "output_type": "stream",
     "text": [
      "[254, 203, 182, 50]\n",
      "\n"
     ]
    },
    {
     "data": {
      "text/plain": [
       "['Ene', 'Feb', 'Mar', 'Abri']"
      ]
     },
     "execution_count": 2,
     "metadata": {},
     "output_type": "execute_result"
    }
   ],
   "source": [
    "poleras = [254, 203, 182, 50];\n",
    "\n",
    "meses = [\"Ene\", \"Feb\", \"Mar\", \"Abri\"];\n",
    "print(poleras);\n",
    "print (\"\");\n",
    "meses\n",
    "\n"
   ]
  },
  {
   "cell_type": "code",
   "execution_count": 3,
   "metadata": {},
   "outputs": [
    {
     "data": {
      "text/plain": [
       "[254, 203, 182, 50, 254, 203, 182, 50]"
      ]
     },
     "execution_count": 3,
     "metadata": {},
     "output_type": "execute_result"
    }
   ],
   "source": [
    "poleras * 2 # solo muestra dos veces la matriz o lista, no la opera"
   ]
  },
  {
   "cell_type": "code",
   "execution_count": 4,
   "metadata": {},
   "outputs": [
    {
     "data": {
      "text/plain": [
       "array([254, 203, 182,  50])"
      ]
     },
     "execution_count": 4,
     "metadata": {},
     "output_type": "execute_result"
    }
   ],
   "source": [
    "import numpy as np\n",
    "array_poleras = np.array(poleras) # Llamar matriz en formato de vector o arreglo\n",
    "#para poder manipular la matriz\n",
    "array_poleras\n"
   ]
  },
  {
   "cell_type": "code",
   "execution_count": 5,
   "metadata": {},
   "outputs": [
    {
     "data": {
      "text/plain": [
       "array([508, 406, 364, 100])"
      ]
     },
     "execution_count": 5,
     "metadata": {},
     "output_type": "execute_result"
    }
   ],
   "source": [
    "array_poleras * 2"
   ]
  },
  {
   "cell_type": "code",
   "execution_count": 6,
   "metadata": {},
   "outputs": [
    {
     "data": {
      "text/plain": [
       "1.6094379124341003"
      ]
     },
     "execution_count": 6,
     "metadata": {},
     "output_type": "execute_result"
    }
   ],
   "source": [
    "#Logaritmo de 5\n",
    "np.log(5)"
   ]
  },
  {
   "cell_type": "code",
   "execution_count": 7,
   "metadata": {},
   "outputs": [
    {
     "data": {
      "text/plain": [
       "-4.374655240288405"
      ]
     },
     "execution_count": 7,
     "metadata": {},
     "output_type": "execute_result"
    }
   ],
   "source": [
    "np.log(5)+ np.pi / np.sqrt(5) - np.exp(2)"
   ]
  },
  {
   "cell_type": "code",
   "execution_count": 8,
   "metadata": {},
   "outputs": [
    {
     "data": {
      "text/plain": [
       "-5.152988121430861"
      ]
     },
     "execution_count": 8,
     "metadata": {},
     "output_type": "execute_result"
    }
   ],
   "source": [
    "np.sqrt(5) - np.exp(2)"
   ]
  },
  {
   "cell_type": "code",
   "execution_count": 9,
   "metadata": {},
   "outputs": [
    {
     "data": {
      "text/plain": [
       "3.0"
      ]
     },
     "execution_count": 9,
     "metadata": {},
     "output_type": "execute_result"
    }
   ],
   "source": [
    "# Si no quiero importar numpy\n",
    "\n",
    "from numpy import log10 as mylog10\n",
    "\n",
    "mylog10(1000)"
   ]
  },
  {
   "cell_type": "code",
   "execution_count": 10,
   "metadata": {},
   "outputs": [
    {
     "name": "stdout",
     "output_type": "stream",
     "text": [
      "['254' '203' '182' '50' 'Ene' 'Feb' 'Mar' 'Abri']\n"
     ]
    }
   ],
   "source": [
    "print(np.array(poleras+meses))"
   ]
  },
  {
   "cell_type": "code",
   "execution_count": 11,
   "metadata": {},
   "outputs": [
    {
     "name": "stdout",
     "output_type": "stream",
     "text": [
      "[1 2]\n",
      "[3 4]\n",
      "[5 6]\n"
     ]
    }
   ],
   "source": [
    "lista = np.array([1,2,3,4,5,6,78,9])\n",
    "print(lista[0:2])\n",
    "print(lista[2:4])\n",
    "print(lista[4:6])"
   ]
  },
  {
   "cell_type": "code",
   "execution_count": 24,
   "metadata": {},
   "outputs": [
    {
     "data": {
      "text/plain": [
       "array([0, 1, 2, 3, 4])"
      ]
     },
     "execution_count": 24,
     "metadata": {},
     "output_type": "execute_result"
    }
   ],
   "source": [
    "arr = np.arange(5) # Imprime rango de la posición 1 al 5\n",
    "arr"
   ]
  },
  {
   "cell_type": "code",
   "execution_count": 25,
   "metadata": {},
   "outputs": [
    {
     "data": {
      "text/plain": [
       "array([2, 4, 6, 8])"
      ]
     },
     "execution_count": 25,
     "metadata": {},
     "output_type": "execute_result"
    }
   ],
   "source": [
    "np.arange(2,9,2)"
   ]
  },
  {
   "cell_type": "code",
   "execution_count": 29,
   "metadata": {},
   "outputs": [
    {
     "name": "stdout",
     "output_type": "stream",
     "text": [
      "0 [2 3] 4\n",
      "[0 1 2 3]\n"
     ]
    }
   ],
   "source": [
    "print(arr[0], arr[2:4],arr[-1]) # El último por ser negativo hace el conteo de atraz hacia adelante\n",
    "print(arr[:4]) # No es necesario escribor 0:4, el espacio vacio se entiende como 0"
   ]
  },
  {
   "cell_type": "code",
   "execution_count": 30,
   "metadata": {},
   "outputs": [
    {
     "data": {
      "text/plain": [
       "array([159.9973605 , 158.62549288, 159.30357219, ..., 161.55546995,\n",
       "       160.34955216, 158.77472458])"
      ]
     },
     "execution_count": 30,
     "metadata": {},
     "output_type": "execute_result"
    }
   ],
   "source": [
    "np.random.seed(2022) #Para reproducibilidad en Numpy\n",
    "estaturas = np.random.normal(loc=160, scale=5, size=10000)#loc para la media, \n",
    "#scale es la desviación estandar y size es el tamaño\n",
    "estaturas"
   ]
  },
  {
   "cell_type": "code",
   "execution_count": 32,
   "metadata": {},
   "outputs": [
    {
     "data": {
      "text/plain": [
       "array([ True, False,  True, ...,  True,  True, False])"
      ]
     },
     "execution_count": 32,
     "metadata": {},
     "output_type": "execute_result"
    }
   ],
   "source": [
    "estaturas > 159 # Genera un resultado booleano, notar que el primer valor del array\n",
    "# anterior es mayor a 159, el segundo menor, el tercero mayor, por eso los resultados\n",
    "#True o False"
   ]
  },
  {
   "cell_type": "code",
   "execution_count": 33,
   "metadata": {},
   "outputs": [
    {
     "name": "stdout",
     "output_type": "stream",
     "text": [
      "[159.9973605  159.30357219 159.54893404 ... 160.55780521 160.29742514\n",
      " 160.34955216]\n"
     ]
    }
   ],
   "source": [
    "cond1 = estaturas > 159\n",
    "cond2 = estaturas < 161\n",
    "print(estaturas[cond1 & cond2]) # estaturas en el rango de [159,161] # Otros operadores != \n",
    "# no ~, o\n"
   ]
  },
  {
   "cell_type": "code",
   "execution_count": 43,
   "metadata": {},
   "outputs": [
    {
     "name": "stdout",
     "output_type": "stream",
     "text": [
      "[177.34539691 175.84361724 175.46177658 177.14862666 175.96289987\n",
      " 176.8307282  175.23806396 175.3929571  180.21385542 176.50448403\n",
      " 177.05879804 175.7990716  175.55682641 175.64145803 175.87669112]\n"
     ]
    }
   ],
   "source": [
    "cond3 = estaturas > 175\n",
    "print (estaturas[cond3])"
   ]
  },
  {
   "cell_type": "code",
   "execution_count": 44,
   "metadata": {},
   "outputs": [
    {
     "name": "stdout",
     "output_type": "stream",
     "text": [
      "[177.34539691 175.84361724 175.46177658 177.14862666 175.96289987\n",
      " 176.8307282  175.23806396 175.3929571  180.21385542 176.50448403\n",
      " 177.05879804 175.7990716  175.55682641 175.64145803 175.87669112]\n"
     ]
    }
   ],
   "source": [
    "print (estaturas[(estaturas > 175)]) # Otra forma de conseguir el mismo resultado"
   ]
  },
  {
   "cell_type": "code",
   "execution_count": 45,
   "metadata": {},
   "outputs": [
    {
     "data": {
      "text/plain": [
       "55"
      ]
     },
     "execution_count": 45,
     "metadata": {},
     "output_type": "execute_result"
    }
   ],
   "source": [
    "80-25\n",
    "# rango es la diferencia entre el max y el min"
   ]
  },
  {
   "attachments": {},
   "cell_type": "markdown",
   "metadata": {},
   "source": [
    "**Estadística descriptiva**\n",
    "\n",
    "\n",
    "| Sintaxis\t| Descripcion |\n",
    "|-----------|-------------|\n",
    "min() |\tMinimo\n",
    "max()\t| Maximo\n",
    "ptp()\t| Rango\n",
    "quantile(a, q)\t| Cuantil q\n",
    "median(a)\t| Mediana\n",
    "mean()\t| Promedio\n",
    "std()\t| Desviacion Standard\n",
    "var()\t| Varianza"
   ]
  },
  {
   "cell_type": "code",
   "execution_count": 49,
   "metadata": {},
   "outputs": [
    {
     "name": "stdout",
     "output_type": "stream",
     "text": [
      "Promedio : 176.39168341105568\n",
      "Varianza : 24.76954640993701\n",
      "Percentil 75: 163.36988703738757\n"
     ]
    }
   ],
   "source": [
    "print(\"Promedio :\", np.mean(estaturas[estaturas > 175]))\n",
    "print(\"Varianza :\", np.var(estaturas))\n",
    "print(\"Percentil 75:\", np.quantile(estaturas, 0.75) )"
   ]
  },
  {
   "cell_type": "code",
   "execution_count": 50,
   "metadata": {},
   "outputs": [
    {
     "data": {
      "text/plain": [
       "160.00986868635252"
      ]
     },
     "execution_count": 50,
     "metadata": {},
     "output_type": "execute_result"
    }
   ],
   "source": [
    "np.mean(estaturas) # Obtiene la media de todos los datos"
   ]
  },
  {
   "cell_type": "code",
   "execution_count": 56,
   "metadata": {},
   "outputs": [],
   "source": [
    "def fahrenheit_a_celcius(temperatura):\n",
    "    calculo = (temperatura - 32) / 1.8\n",
    "    return calculo"
   ]
  },
  {
   "cell_type": "code",
   "execution_count": 57,
   "metadata": {},
   "outputs": [
    {
     "data": {
      "text/plain": [
       "array([ 0.        , -6.66666667, 16.66666667, 30.        ])"
      ]
     },
     "execution_count": 57,
     "metadata": {},
     "output_type": "execute_result"
    }
   ],
   "source": [
    "temperaturas_fahrenheit = np.array([32,20,62,86])\n",
    "fahrenheit_a_celcius(temperaturas_fahrenheit)"
   ]
  },
  {
   "cell_type": "code",
   "execution_count": 58,
   "metadata": {},
   "outputs": [
    {
     "data": {
      "text/plain": [
       "array([2.5, 7. , 1.4, 6.8, 5. , 4.9, 5.8])"
      ]
     },
     "execution_count": 58,
     "metadata": {},
     "output_type": "execute_result"
    }
   ],
   "source": [
    "notas = np.array([2.5, 7, 1.4, 6.8, 5, 4.9, 5.8])\n",
    "notas"
   ]
  },
  {
   "cell_type": "code",
   "execution_count": 59,
   "metadata": {},
   "outputs": [
    {
     "data": {
      "text/plain": [
       "array(['Reprobado', 'Aprobado', 'Reprobado', 'Aprobado', 'Aprobado',\n",
       "       'Aprobado', 'Aprobado'], dtype='<U9')"
      ]
     },
     "execution_count": 59,
     "metadata": {},
     "output_type": "execute_result"
    }
   ],
   "source": [
    "estado_aprobacion = np.where (notas >=4, \"Aprobado\", \"Reprobado\")\n",
    "estado_aprobacion"
   ]
  },
  {
   "cell_type": "code",
   "execution_count": 68,
   "metadata": {},
   "outputs": [
    {
     "data": {
      "text/plain": [
       "array(['A salvar el ramo', 'Eximido', 'A salvar el ramo', 'Eximido',\n",
       "       'A dar el examen', 'A dar el examen', 'Eximido'], dtype='<U16')"
      ]
     },
     "execution_count": 68,
     "metadata": {},
     "output_type": "execute_result"
    }
   ],
   "source": [
    "# np.select\n",
    "estado_examen = np.select(\n",
    "    # Condiciones\n",
    "    condlist = [notas > 5.5 , notas >= 4.0],\n",
    "    # Elecciones\n",
    "    choicelist = [\"Eximido\", \"A dar el examen\"],\n",
    "    #Else\n",
    "    default = \"A salvar el ramo\",\n",
    ")\n",
    "estado_examen"
   ]
  },
  {
   "cell_type": "code",
   "execution_count": 70,
   "metadata": {},
   "outputs": [
    {
     "name": "stdout",
     "output_type": "stream",
     "text": [
      "[[0 1 1 0]\n",
      " [7 8 2 8]\n",
      " [0 5 9 1]]\n"
     ]
    }
   ],
   "source": [
    "np.random.seed(2022)\n",
    "mat = np.random.randint(low=0, high=10, size=(3,4))\n",
    "print(mat)"
   ]
  },
  {
   "cell_type": "code",
   "execution_count": 71,
   "metadata": {},
   "outputs": [
    {
     "name": "stdout",
     "output_type": "stream",
     "text": [
      "Una matriz:\n",
      " [[0 1 1 0]\n",
      " [7 8 2 8]\n",
      " [0 5 9 1]]\n",
      "\n",
      "Un elemento: 2\n",
      "\n",
      "Una fila: [7 8 2 8]\n",
      "\n",
      "Una columna: [1 8 5]\n",
      "\n",
      "Un subconjunto:\n",
      " [[1 1 0]\n",
      " [8 2 8]]\n"
     ]
    }
   ],
   "source": [
    "print(\"Una matriz:\\n\", mat)\n",
    "print(\"\")\n",
    "print(\"Un elemento:\", mat[1, 2]) # filas x columnas = FELIZ CUMPLEAÑOS!!!!!!\n",
    "print(\"\")\n",
    "print(\"Una fila:\", mat[1 , :])\n",
    "print(\"\")\n",
    "print(\"Una columna:\", mat[:, 1])\n",
    "print(\"\")\n",
    "print(\"Un subconjunto:\\n\", mat[0:2, 1:4]) #filas 0 y 1, además de columnas 1, 2 y 3 "
   ]
  },
  {
   "attachments": {},
   "cell_type": "markdown",
   "metadata": {},
   "source": [
    "Repasar el PPT y hacer el Ejercicio"
   ]
  }
 ],
 "metadata": {
  "kernelspec": {
   "display_name": "Python 3",
   "language": "python",
   "name": "python3"
  },
  "language_info": {
   "codemirror_mode": {
    "name": "ipython",
    "version": 3
   },
   "file_extension": ".py",
   "mimetype": "text/x-python",
   "name": "python",
   "nbconvert_exporter": "python",
   "pygments_lexer": "ipython3",
   "version": "3.11.0"
  },
  "orig_nbformat": 4,
  "vscode": {
   "interpreter": {
    "hash": "aee8b7b246df8f9039afb4144a1f6fd8d2ca17a180786b69acc140d282b71a49"
   }
  }
 },
 "nbformat": 4,
 "nbformat_minor": 2
}
